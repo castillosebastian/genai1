{
 "cells": [
  {
   "attachments": {},
   "cell_type": "markdown",
   "id": "68e1c158",
   "metadata": {},
   "source": [
    "# Building Semantic Memory with Embeddings\n",
    "\n",
    " "
   ]
  },
  {
   "cell_type": "code",
   "execution_count": null,
   "id": "a77bdf89",
   "metadata": {},
   "outputs": [],
   "source": [
    "#!python -m pip install semantic-kernel==0.4.5.dev0"
   ]
  },
  {
   "cell_type": "code",
   "execution_count": 1,
   "id": "508ad44f",
   "metadata": {},
   "outputs": [],
   "source": [
    "import os\n",
    "import json\n",
    "from typing import Tuple\n",
    "import semantic_kernel as sk\n",
    "from semantic_kernel.connectors.ai.open_ai import (\n",
    "    OpenAIChatCompletion,\n",
    "    OpenAITextEmbedding,\n",
    "    AzureChatCompletion,\n",
    "    AzureTextEmbedding,\n",
    ")\n",
    "endpoint = os.environ[\"AZURE_OPENAI_ENDPOINT\"]\n",
    "deployment_name = os.environ[\"AZURE_OPENAI_DEPLOYMENT_NAME\"]\n",
    "key = os.environ[\"AZURE_OPENAI_API_KEY\"]\n",
    "embeddings = os.environ[\"AZURE_OPENAI_EMBEDDINGS_MODEL_NAME\"]\n",
    "azure_ai_search_api_key = os.environ[\"AZURE_AISEARCH_API_KEY\"]\n",
    "azure_ai_search_url = os.environ[\"AZURE_AISEARCH_ENDPOINT\"]"
   ]
  },
  {
   "cell_type": "code",
   "execution_count": 2,
   "id": "8f8dcbc6",
   "metadata": {},
   "outputs": [
    {
     "data": {
      "text/plain": [
       "<semantic_kernel.kernel.Kernel at 0x7fca10043940>"
      ]
     },
     "execution_count": 2,
     "metadata": {},
     "output_type": "execute_result"
    }
   ],
   "source": [
    "kernel = sk.Kernel()\n",
    "\n",
    "azure_chat_service = AzureChatCompletion(deployment_name=deployment_name, endpoint=endpoint, api_key=key)\n",
    "# next line assumes embeddings deployment name is \"text-embedding\", adjust the deployment name to the value of your chat model if needed\n",
    "azure_text_embedding = AzureTextEmbedding(deployment_name=embeddings, endpoint=endpoint, api_key=key)\n",
    "kernel.add_chat_service(\"chat_completion\", azure_chat_service)\n",
    "kernel.add_text_embedding_generation_service(\"ada\", azure_text_embedding)\n",
    "#kernel.register_memory_store(memory_store=sk.memory.VolatileMemoryStore())\n",
    "#kernel.import_skill(sk.core_skills.TextMemorySkill())"
   ]
  },
  {
   "attachments": {},
   "cell_type": "markdown",
   "id": "2a7e7ca4",
   "metadata": {},
   "source": [
    "### Manually adding memories\n",
    "\n",
    "Create some initial memories \"About Me\". We can add memories to our `VolatileMemoryStore` by using `SaveInformationAsync`"
   ]
  },
  {
   "cell_type": "code",
   "execution_count": 3,
   "id": "522c28f4",
   "metadata": {},
   "outputs": [],
   "source": [
    "from semantic_kernel.connectors.memory.azure_cognitive_search import (\n",
    "    AzureCognitiveSearchMemoryStore,\n",
    ")\n",
    "\n",
    "# text-embedding-ada-002 uses a 1536-dimensional embedding vector\n",
    "kernel.register_memory_store(\n",
    "    memory_store=AzureCognitiveSearchMemoryStore(\n",
    "        vector_size=1536,\n",
    "        search_endpoint=azure_ai_search_url,\n",
    "        admin_key=azure_ai_search_api_key,\n",
    "    )\n",
    ")"
   ]
  },
  {
   "cell_type": "code",
   "execution_count": 4,
   "id": "3d7396ef",
   "metadata": {},
   "outputs": [],
   "source": [
    "# Upload some documents to the index\n",
    "with open('docVectors.json', 'r') as file:  \n",
    "    documents = json.load(file)  \n",
    "# Iterate over each document and update it\n",
    "for document in documents:\n",
    "    document.update(document.pop('metadata'))\n",
    "# Create ID\n",
    "for i, document in enumerate(documents):\n",
    "    document['id'] = str(i)\n",
    "# del embeddings\n",
    "for item in documents:\n",
    "    item.pop('contentVector', None)\n",
    "    item['AdditionalMetadata'] = '_'.join([str(item.get(field, '')) for field in ['doc_year', 'doc_type', 'page', 'start_index']])\n",
    "\n",
    "# Now each di"
   ]
  },
  {
   "cell_type": "code",
   "execution_count": 5,
   "id": "9bba0772",
   "metadata": {},
   "outputs": [
    {
     "data": {
      "text/plain": [
       "{'page_content': 'UNITED STATES\\nSECURITIES AND EXCHANGE COMMISSION\\nWashington, D.C. 20549\\n \\nFORM \\n10-K\\n \\n \\n☒\\nANNUAL REPORT PURSUANT TO SECTION 13 OR 15(d) OF THE SECURITIES EXCHANGE ACT OF 1934\\n \\n \\n \\nFor the Fiscal Year Ended\\n June 30, \\n2023\\n \\n \\n \\nOR\\n \\n \\n☐\\nTRANSITION REPORT PURSUANT TO SECTION 13 OR 15(d) OF THE SECURITIES EXCHANGE ACT OF 1934\\n \\n \\n \\nFor the Transition Period From                  to\\nCommission File Number \\n001-37845\\n \\n \\nMICROSOFT CORPORATION\\n \\n \\nWASHINGTON\\n \\n91-1144442\\n(STATE OF INCORPORATION)\\n \\n(I.R.S. ID)\\nONE MICROSOFT WAY\\n, \\nREDMOND\\n, \\nWASHINGTON\\n \\n98052-6399\\n(\\n425\\n) \\n882-8080\\nwww.microsoft.com/investor\\n \\n \\n \\n \\n \\nSecurities registered pursuant to Section 12(b) of the Act:\\n \\n \\n \\n \\n \\n \\n \\n \\n \\nTitle of each class\\n \\nTrading Symbol\\n \\nName of exchange on which registered\\n \\n \\n \\n \\n \\nCommon stock, $\\n0.00000625\\n par value per share\\n \\nMSFT\\n \\nNASDAQ\\n3.125% Notes due 2028\\n \\nMSFT\\n \\nNASDAQ\\n2.625% Notes due 2033\\n \\nMSFT\\n \\nNASDAQ\\n \\n \\n \\n \\n \\nSecurities registered pursuant to Section 12(g) of the Act:\\n \\n \\n \\n \\n \\n \\n \\n \\n \\nN\\none',\n",
       " 'company_name': 'MICROSOFT',\n",
       " 'doc_year': '2023',\n",
       " 'doc_quarter': '',\n",
       " 'doc_type': '10K',\n",
       " 'source': '../../data/financebench/MICROSOFT_2023_10K.pdf',\n",
       " 'page': 0,\n",
       " 'start_index': 2,\n",
       " 'id': '0',\n",
       " 'AdditionalMetadata': '2023_10K_0_2'}"
      ]
     },
     "execution_count": 5,
     "metadata": {},
     "output_type": "execute_result"
    }
   ],
   "source": [
    "documents[0]"
   ]
  },
  {
   "cell_type": "code",
   "execution_count": 6,
   "id": "8780b3cf",
   "metadata": {},
   "outputs": [],
   "source": [
    "for item in documents:\n",
    "    item.pop('doc_quarter', None)\n",
    "    item.pop('doc_type', None) \n",
    "    item.pop('page', None) \n",
    "    item.pop('start_index', None)     \n",
    "    item.pop('doc_year', None) "
   ]
  },
  {
   "cell_type": "code",
   "execution_count": 7,
   "id": "c33292ee",
   "metadata": {},
   "outputs": [],
   "source": [
    "for item in documents:    \n",
    "    item['Id'] = item.pop('id')\n",
    "    item['Text'] = item.pop('page_content')\n",
    "    item['ExternalSourceName'] = item.pop('source')\n",
    "    item['Description'] = item.pop('company_name')     "
   ]
  },
  {
   "cell_type": "code",
   "execution_count": 8,
   "id": "79c0d4c9",
   "metadata": {},
   "outputs": [
    {
     "data": {
      "text/plain": [
       "{'AdditionalMetadata': '2023_10K_0_2',\n",
       " 'Id': '0',\n",
       " 'Text': 'UNITED STATES\\nSECURITIES AND EXCHANGE COMMISSION\\nWashington, D.C. 20549\\n \\nFORM \\n10-K\\n \\n \\n☒\\nANNUAL REPORT PURSUANT TO SECTION 13 OR 15(d) OF THE SECURITIES EXCHANGE ACT OF 1934\\n \\n \\n \\nFor the Fiscal Year Ended\\n June 30, \\n2023\\n \\n \\n \\nOR\\n \\n \\n☐\\nTRANSITION REPORT PURSUANT TO SECTION 13 OR 15(d) OF THE SECURITIES EXCHANGE ACT OF 1934\\n \\n \\n \\nFor the Transition Period From                  to\\nCommission File Number \\n001-37845\\n \\n \\nMICROSOFT CORPORATION\\n \\n \\nWASHINGTON\\n \\n91-1144442\\n(STATE OF INCORPORATION)\\n \\n(I.R.S. ID)\\nONE MICROSOFT WAY\\n, \\nREDMOND\\n, \\nWASHINGTON\\n \\n98052-6399\\n(\\n425\\n) \\n882-8080\\nwww.microsoft.com/investor\\n \\n \\n \\n \\n \\nSecurities registered pursuant to Section 12(b) of the Act:\\n \\n \\n \\n \\n \\n \\n \\n \\n \\nTitle of each class\\n \\nTrading Symbol\\n \\nName of exchange on which registered\\n \\n \\n \\n \\n \\nCommon stock, $\\n0.00000625\\n par value per share\\n \\nMSFT\\n \\nNASDAQ\\n3.125% Notes due 2028\\n \\nMSFT\\n \\nNASDAQ\\n2.625% Notes due 2033\\n \\nMSFT\\n \\nNASDAQ\\n \\n \\n \\n \\n \\nSecurities registered pursuant to Section 12(g) of the Act:\\n \\n \\n \\n \\n \\n \\n \\n \\n \\nN\\none',\n",
       " 'ExternalSourceName': '../../data/financebench/MICROSOFT_2023_10K.pdf',\n",
       " 'Description': 'MICROSOFT'}"
      ]
     },
     "execution_count": 8,
     "metadata": {},
     "output_type": "execute_result"
    }
   ],
   "source": [
    "first_document = documents[0] \n",
    "{key: (value[:2] if isinstance(value, list) else value) for key, value in first_document.items()}\n"
   ]
  },
  {
   "cell_type": "code",
   "execution_count": 11,
   "id": "ba8d9600",
   "metadata": {},
   "outputs": [
    {
     "data": {
      "text/plain": [
       "3"
      ]
     },
     "execution_count": 11,
     "metadata": {},
     "output_type": "execute_result"
    }
   ],
   "source": [
    "len(documents)\n",
    "document_small = documents[:3]\n",
    "len(document_small)"
   ]
  },
  {
   "cell_type": "code",
   "execution_count": 12,
   "id": "666ba580",
   "metadata": {},
   "outputs": [
    {
     "name": "stderr",
     "output_type": "stream",
     "text": [
      "hnsw_parameters is not a known attribute of class <class 'azure.search.documents.indexes._generated.models._models_py3.HnswVectorSearchAlgorithmConfiguration'> and will be ignored\n"
     ]
    }
   ],
   "source": [
    "index_name = 'finance-bench-small-sk'\n",
    "for document in document_small:\n",
    "    await kernel.memory.save_information_async(\n",
    "        collection=index_name, \n",
    "        id=document['Id'], \n",
    "        text= document['Text'],         \n",
    "        description= document['Description'],\n",
    "        additional_metadata=document['AdditionalMetadata']\n",
    "    )"
   ]
  },
  {
   "cell_type": "code",
   "execution_count": 15,
   "id": "628c843e",
   "metadata": {},
   "outputs": [],
   "source": [
    "async def search_memory_examples(kernel: sk.Kernel) -> None:\n",
    "    questions = [\n",
    "        \"what's SEC\",\n",
    "        \"what's Finance?\",        \n",
    "    ]\n",
    "\n",
    "    for question in questions:\n",
    "        print(f\"Question: {question}\")\n",
    "        result = await kernel.memory.search_async(\"finance-bench-small-sk\", question)\n",
    "        print(f\"Answer: {result[0].text}\\n\")"
   ]
  },
  {
   "cell_type": "code",
   "execution_count": 16,
   "metadata": {},
   "outputs": [
    {
     "name": "stdout",
     "output_type": "stream",
     "text": [
      "Question: what's SEC\n",
      "Answer: UNITED STATES\n",
      "SECURITIES AND EXCHANGE COMMISSION\n",
      "Washington, D.C. 20549\n",
      " \n",
      "FORM \n",
      "10-K\n",
      " \n",
      " \n",
      "☒\n",
      "ANNUAL REPORT PURSUANT TO SECTION 13 OR 15(d) OF THE SECURITIES EXCHANGE ACT OF 1934\n",
      " \n",
      " \n",
      " \n",
      "For the Fiscal Year Ended\n",
      " June 30, \n",
      "2023\n",
      " \n",
      " \n",
      " \n",
      "OR\n",
      " \n",
      " \n",
      "☐\n",
      "TRANSITION REPORT PURSUANT TO SECTION 13 OR 15(d) OF THE SECURITIES EXCHANGE ACT OF 1934\n",
      " \n",
      " \n",
      " \n",
      "For the Transition Period From                  to\n",
      "Commission File Number \n",
      "001-37845\n",
      " \n",
      " \n",
      "MICROSOFT CORPORATION\n",
      " \n",
      " \n",
      "WASHINGTON\n",
      " \n",
      "91-1144442\n",
      "(STATE OF INCORPORATION)\n",
      " \n",
      "(I.R.S. ID)\n",
      "ONE MICROSOFT WAY\n",
      ", \n",
      "REDMOND\n",
      ", \n",
      "WASHINGTON\n",
      " \n",
      "98052-6399\n",
      "(\n",
      "425\n",
      ") \n",
      "882-8080\n",
      "www.microsoft.com/investor\n",
      " \n",
      " \n",
      " \n",
      " \n",
      " \n",
      "Securities registered pursuant to Section 12(b) of the Act:\n",
      " \n",
      " \n",
      " \n",
      " \n",
      " \n",
      " \n",
      " \n",
      " \n",
      " \n",
      "Title of each class\n",
      " \n",
      "Trading Symbol\n",
      " \n",
      "Name of exchange on which registered\n",
      " \n",
      " \n",
      " \n",
      " \n",
      " \n",
      "Common stock, $\n",
      "0.00000625\n",
      " par value per share\n",
      " \n",
      "MSFT\n",
      " \n",
      "NASDAQ\n",
      "3.125% Notes due 2028\n",
      " \n",
      "MSFT\n",
      " \n",
      "NASDAQ\n",
      "2.625% Notes due 2033\n",
      " \n",
      "MSFT\n",
      " \n",
      "NASDAQ\n",
      " \n",
      " \n",
      " \n",
      " \n",
      " \n",
      "Securities registered pursuant to Section 12(g) of the Act:\n",
      " \n",
      " \n",
      " \n",
      " \n",
      " \n",
      " \n",
      " \n",
      " \n",
      " \n",
      "N\n",
      "one\n",
      "\n",
      "Question: what's Finance?\n",
      "Answer: UNITED STATES\n",
      "SECURITIES AND EXCHANGE COMMISSION\n",
      "Washington, D.C. 20549\n",
      " \n",
      "FORM \n",
      "10-K\n",
      " \n",
      " \n",
      "☒\n",
      "ANNUAL REPORT PURSUANT TO SECTION 13 OR 15(d) OF THE SECURITIES EXCHANGE ACT OF 1934\n",
      " \n",
      " \n",
      " \n",
      "For the Fiscal Year Ended\n",
      " June 30, \n",
      "2023\n",
      " \n",
      " \n",
      " \n",
      "OR\n",
      " \n",
      " \n",
      "☐\n",
      "TRANSITION REPORT PURSUANT TO SECTION 13 OR 15(d) OF THE SECURITIES EXCHANGE ACT OF 1934\n",
      " \n",
      " \n",
      " \n",
      "For the Transition Period From                  to\n",
      "Commission File Number \n",
      "001-37845\n",
      " \n",
      " \n",
      "MICROSOFT CORPORATION\n",
      " \n",
      " \n",
      "WASHINGTON\n",
      " \n",
      "91-1144442\n",
      "(STATE OF INCORPORATION)\n",
      " \n",
      "(I.R.S. ID)\n",
      "ONE MICROSOFT WAY\n",
      ", \n",
      "REDMOND\n",
      ", \n",
      "WASHINGTON\n",
      " \n",
      "98052-6399\n",
      "(\n",
      "425\n",
      ") \n",
      "882-8080\n",
      "www.microsoft.com/investor\n",
      " \n",
      " \n",
      " \n",
      " \n",
      " \n",
      "Securities registered pursuant to Section 12(b) of the Act:\n",
      " \n",
      " \n",
      " \n",
      " \n",
      " \n",
      " \n",
      " \n",
      " \n",
      " \n",
      "Title of each class\n",
      " \n",
      "Trading Symbol\n",
      " \n",
      "Name of exchange on which registered\n",
      " \n",
      " \n",
      " \n",
      " \n",
      " \n",
      "Common stock, $\n",
      "0.00000625\n",
      " par value per share\n",
      " \n",
      "MSFT\n",
      " \n",
      "NASDAQ\n",
      "3.125% Notes due 2028\n",
      " \n",
      "MSFT\n",
      " \n",
      "NASDAQ\n",
      "2.625% Notes due 2033\n",
      " \n",
      "MSFT\n",
      " \n",
      "NASDAQ\n",
      " \n",
      " \n",
      " \n",
      " \n",
      " \n",
      "Securities registered pursuant to Section 12(g) of the Act:\n",
      " \n",
      " \n",
      " \n",
      " \n",
      " \n",
      " \n",
      " \n",
      " \n",
      " \n",
      "N\n",
      "one\n",
      "\n"
     ]
    }
   ],
   "source": [
    "await search_memory_examples(kernel)"
   ]
  }
 ],
 "metadata": {
  "kernelspec": {
   "display_name": "Python 3 (ipykernel)",
   "language": "python",
   "name": "python3"
  },
  "language_info": {
   "codemirror_mode": {
    "name": "ipython",
    "version": 3
   },
   "file_extension": ".py",
   "mimetype": "text/x-python",
   "name": "python",
   "nbconvert_exporter": "python",
   "pygments_lexer": "ipython3",
   "version": "3.9.13"
  }
 },
 "nbformat": 4,
 "nbformat_minor": 5
}
